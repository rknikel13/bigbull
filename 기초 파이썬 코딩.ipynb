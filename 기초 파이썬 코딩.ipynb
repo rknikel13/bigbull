{
 "cells": [
  {
   "cell_type": "code",
   "execution_count": 1,
   "metadata": {},
   "outputs": [
    {
     "name": "stdout",
     "output_type": "stream",
     "text": [
      "Hello World\n"
     ]
    }
   ],
   "source": [
    "print(\"Hello World\")"
   ]
  },
  {
   "cell_type": "code",
   "execution_count": 2,
   "metadata": {},
   "outputs": [
    {
     "name": "stdout",
     "output_type": "stream",
     "text": [
      "Python을 시작합니다\n",
      "안녕하세요?\n"
     ]
    }
   ],
   "source": [
    "print(\"Python을 시작합니다\\n안녕하세요?\")"
   ]
  },
  {
   "cell_type": "code",
   "execution_count": 3,
   "metadata": {},
   "outputs": [
    {
     "name": "stdout",
     "output_type": "stream",
     "text": [
      "3.14159265\n"
     ]
    }
   ],
   "source": [
    "pi=3.14159265\n",
    "print(pi)"
   ]
  },
  {
   "cell_type": "code",
   "execution_count": 5,
   "metadata": {},
   "outputs": [
    {
     "name": "stdout",
     "output_type": "stream",
     "text": [
      "원주율은 3.14159265이고, 근사치로는 3.14입니다\n"
     ]
    }
   ],
   "source": [
    "print(\"원주율은 {a}이고, 근사치로는 {b:.2f}입니다\". format(a=pi, b=pi))"
   ]
  },
  {
   "cell_type": "code",
   "execution_count": 6,
   "metadata": {},
   "outputs": [
    {
     "data": {
      "text/plain": [
       "int"
      ]
     },
     "execution_count": 6,
     "metadata": {},
     "output_type": "execute_result"
    }
   ],
   "source": [
    "type(10) #정수형"
   ]
  },
  {
   "cell_type": "code",
   "execution_count": 7,
   "metadata": {},
   "outputs": [
    {
     "data": {
      "text/plain": [
       "float"
      ]
     },
     "execution_count": 7,
     "metadata": {},
     "output_type": "execute_result"
    }
   ],
   "source": [
    "type(3.14) #실수형"
   ]
  },
  {
   "cell_type": "markdown",
   "metadata": {},
   "source": [
    "## 문자열(string)"
   ]
  },
  {
   "cell_type": "code",
   "execution_count": 12,
   "metadata": {},
   "outputs": [
    {
     "name": "stdout",
     "output_type": "stream",
     "text": [
      "Lifeistooshort\n",
      "Life is too short\n"
     ]
    }
   ],
   "source": [
    "C3 = \"Life\"\n",
    "C4 = \"is\"\n",
    "C5 = \"too\"\n",
    "C6 = \"short\"\n",
    "C7 = C3 + C4 + C5 + C6 \n",
    "C8 = C3 + \" \" + C4 + \" \" + C5 + \" \" + C6\n",
    "print(C7)\n",
    "print(C8)\n",
    "# \" \" 띄어쓰기"
   ]
  },
  {
   "cell_type": "code",
   "execution_count": 16,
   "metadata": {},
   "outputs": [
    {
     "name": "stdout",
     "output_type": "stream",
     "text": [
      "H\n",
      "다\n",
      "세요\n"
     ]
    }
   ],
   "source": [
    "D1 = \"Hello python\"\n",
    "D2 = \"안녕하세요 파이썬씨? 우리 잘 해봅시다\"\n",
    "print(D1[0]) # D1에서 첫 번째 문자\n",
    "print(D2[-1]) # D2 끝에서 첫 번째 문자\n",
    "print(D2[3:5]) # D2 4~5번째 문자"
   ]
  },
  {
   "cell_type": "code",
   "execution_count": 20,
   "metadata": {},
   "outputs": [
    {
     "name": "stdout",
     "output_type": "stream",
     "text": [
      "6\n",
      "6\n",
      "-1\n"
     ]
    }
   ],
   "source": [
    "print(D2.find('파'))# 0부터 시작, 공백 감안\n",
    "print(D2.index('파'))\n",
    "print(D2.find('카'))\n",
    "#print(D2.index('카')) \n",
    "#find에서는 없는 문자를 찾으라는 명령에 -1을 output하는 것과 달리 index는 없는 문자를 찾으라는 명령에는 에러가 뜸"
   ]
  },
  {
   "cell_type": "code",
   "execution_count": 26,
   "metadata": {},
   "outputs": [
    {
     "name": "stdout",
     "output_type": "stream",
     "text": [
      " Hello \n",
      "Hello \n",
      " Hello\n",
      "Hello\n"
     ]
    }
   ],
   "source": [
    "C9 = \" Hello \"\n",
    "print(C9)\n",
    "print(C9.lstrip())\n",
    "print(C9.rstrip())\n",
    "print(C9.strip())\n"
   ]
  },
  {
   "cell_type": "code",
   "execution_count": 28,
   "metadata": {},
   "outputs": [
    {
     "name": "stdout",
     "output_type": "stream",
     "text": [
      "동국대학교\n"
     ]
    }
   ],
   "source": [
    "C10 = \"한국대학교\"\n",
    "print(C10.replace(\"한국\",\"동국\"))\n",
    "#replace(\"a\",\"b\")  : a를 b로 변환"
   ]
  },
  {
   "cell_type": "code",
   "execution_count": 30,
   "metadata": {},
   "outputs": [
    {
     "name": "stdout",
     "output_type": "stream",
     "text": [
      "['동국', '대학교']\n"
     ]
    }
   ],
   "source": [
    "C11 = \"동국v대학교\"\n",
    "print(C11.split(\"v\"))\n",
    "#v를 기준으로 나누기"
   ]
  },
  {
   "cell_type": "markdown",
   "metadata": {},
   "source": [
    "## 목록과 튜플"
   ]
  },
  {
   "cell_type": "code",
   "execution_count": 38,
   "metadata": {},
   "outputs": [
    {
     "name": "stdout",
     "output_type": "stream",
     "text": [
      "1\n",
      "Life\n"
     ]
    }
   ],
   "source": [
    "L1 = [1,2,3,4]\n",
    "L2 = ['Life', 'is', 'too', 'short']\n",
    "L3 = [1,2,'Python']\n",
    "L4 = [1,2,['Life', 'Python']]\n",
    "\n",
    "print(L1[0])\n",
    "print(L4[-1][0])"
   ]
  },
  {
   "cell_type": "code",
   "execution_count": 39,
   "metadata": {},
   "outputs": [
    {
     "name": "stdout",
     "output_type": "stream",
     "text": [
      "[1, 2, ['Life', 'Python'], 'g']\n"
     ]
    }
   ],
   "source": [
    "L4.append('g')\n",
    "print(L4)\n",
    "# append: 기존의 요소에 새로운 요소 추가"
   ]
  },
  {
   "cell_type": "code",
   "execution_count": 41,
   "metadata": {},
   "outputs": [
    {
     "name": "stdout",
     "output_type": "stream",
     "text": [
      "[1, 2, 5, 3, 4]\n"
     ]
    }
   ],
   "source": [
    "L1.insert(2,5)\n",
    "print(L1)\n",
    "# insert(a,b) : a 위치에 b 삽입"
   ]
  },
  {
   "cell_type": "code",
   "execution_count": 42,
   "metadata": {},
   "outputs": [
    {
     "data": {
      "text/plain": [
       "[1, 2, 'Python', 1, 2, ['Life', 'Python'], 'g']"
      ]
     },
     "execution_count": 42,
     "metadata": {},
     "output_type": "execute_result"
    }
   ],
   "source": [
    "L3 + L4"
   ]
  },
  {
   "cell_type": "code",
   "execution_count": 47,
   "metadata": {},
   "outputs": [
    {
     "name": "stdout",
     "output_type": "stream",
     "text": [
      "[1, 2, 3, 4, 5, 6, 7]\n"
     ]
    }
   ],
   "source": [
    "# 요소 값 수정\n",
    "L6 = [1,2,3,5,4,6,7]\n",
    "L6[3:5]= [4,5]\n",
    "print(L6)"
   ]
  },
  {
   "cell_type": "code",
   "execution_count": 48,
   "metadata": {},
   "outputs": [
    {
     "name": "stdout",
     "output_type": "stream",
     "text": [
      "[1, 2, 3, 4, 5, 6]\n"
     ]
    }
   ],
   "source": [
    "# 특정 요소 삭제: del\n",
    "\n",
    "del L6[6]\n",
    "print(L6)\n"
   ]
  },
  {
   "cell_type": "code",
   "execution_count": 49,
   "metadata": {},
   "outputs": [
    {
     "name": "stdout",
     "output_type": "stream",
     "text": [
      "17\n"
     ]
    }
   ],
   "source": [
    "L7 = [1,1,1,1,1,2,1,1,1,1,1,1,3,3,4,4,5,5,1,1,1,1,1,1,4]\n",
    "print(L7.count(1))\n",
    "# L7에서 1이 몇개인지 카운팅"
   ]
  },
  {
   "cell_type": "code",
   "execution_count": 51,
   "metadata": {},
   "outputs": [
    {
     "name": "stdout",
     "output_type": "stream",
     "text": [
      "[1, 1, 1, 1, 1, 1, 1, 1, 1, 1, 1, 1, 1, 1, 1, 1, 1, 2, 3, 3, 4, 4, 4, 5, 5]\n"
     ]
    }
   ],
   "source": [
    "L7.sort()\n",
    "print(L7)\n",
    "# 오름차순 정렬"
   ]
  },
  {
   "cell_type": "code",
   "execution_count": 52,
   "metadata": {},
   "outputs": [
    {
     "name": "stdout",
     "output_type": "stream",
     "text": [
      "[5, 5, 4, 4, 4, 3, 3, 2, 1, 1, 1, 1, 1, 1, 1, 1, 1, 1, 1, 1, 1, 1, 1, 1, 1]\n"
     ]
    }
   ],
   "source": [
    "L7.sort(reverse=True)\n",
    "print(L7)"
   ]
  },
  {
   "cell_type": "markdown",
   "metadata": {},
   "source": [
    "### T1 = (1,2,3,4,5)  : 튜플 형태\n",
    "### 튜플은 목록형 데이터와는 달리 수정이 불가능"
   ]
  },
  {
   "cell_type": "markdown",
   "metadata": {},
   "source": [
    "## 사전(dictionary)"
   ]
  },
  {
   "cell_type": "code",
   "execution_count": null,
   "metadata": {},
   "outputs": [],
   "source": [
    "# 사전은 데이터에 key와 value가 key:value 형태로 표시됨"
   ]
  },
  {
   "cell_type": "code",
   "execution_count": 54,
   "metadata": {},
   "outputs": [
    {
     "name": "stdout",
     "output_type": "stream",
     "text": [
      "KIM\n"
     ]
    }
   ],
   "source": [
    "D11 = {'name':'KIM','birth':'2003','height':'175'}\n",
    "print(D11['name'])"
   ]
  },
  {
   "cell_type": "code",
   "execution_count": 57,
   "metadata": {},
   "outputs": [
    {
     "name": "stdout",
     "output_type": "stream",
     "text": [
      "{'name': 'KIM', 'birth': '2003', 'height': '175', 'weight': '60'}\n",
      "60\n"
     ]
    }
   ],
   "source": [
    "#D11에 새로운 key와 value 추가\n",
    "D11['weight']='60'\n",
    "print(D11)\n",
    "print(D11['weight'])"
   ]
  },
  {
   "cell_type": "code",
   "execution_count": 58,
   "metadata": {},
   "outputs": [
    {
     "name": "stdout",
     "output_type": "stream",
     "text": [
      "['name', 'birth', 'height', 'weight']\n"
     ]
    }
   ],
   "source": [
    "D11key = list(D11.keys())\n",
    "print(D11key)\n",
    "# key list 만들기"
   ]
  },
  {
   "cell_type": "code",
   "execution_count": 59,
   "metadata": {},
   "outputs": [
    {
     "name": "stdout",
     "output_type": "stream",
     "text": [
      "['KIM', '2003', '175', '60']\n"
     ]
    }
   ],
   "source": [
    "D11value = list(D11.values())\n",
    "print(D11value)"
   ]
  },
  {
   "cell_type": "markdown",
   "metadata": {},
   "source": [
    "## 다차원배열(ndarray)"
   ]
  },
  {
   "cell_type": "code",
   "execution_count": 61,
   "metadata": {},
   "outputs": [
    {
     "name": "stdout",
     "output_type": "stream",
     "text": [
      "[1 2 3 4]\n"
     ]
    }
   ],
   "source": [
    "import numpy as np\n",
    "V1 = np.array([1,2,3,4])\n",
    "print(V1)"
   ]
  },
  {
   "cell_type": "code",
   "execution_count": 64,
   "metadata": {},
   "outputs": [
    {
     "name": "stdout",
     "output_type": "stream",
     "text": [
      "[0 1 2 3 4]\n"
     ]
    }
   ],
   "source": [
    "V2 = np.arange(5)\n",
    "print(V2)"
   ]
  },
  {
   "cell_type": "code",
   "execution_count": 65,
   "metadata": {},
   "outputs": [
    {
     "name": "stdout",
     "output_type": "stream",
     "text": [
      "[ 2  6 10 14 18]\n"
     ]
    }
   ],
   "source": [
    "V3 = np.arange(1,10,2)*2\n",
    "print(V3)"
   ]
  },
  {
   "cell_type": "code",
   "execution_count": null,
   "metadata": {},
   "outputs": [],
   "source": [
    "~~"
   ]
  },
  {
   "cell_type": "code",
   "execution_count": null,
   "metadata": {},
   "outputs": [],
   "source": [
    "~~"
   ]
  },
  {
   "cell_type": "code",
   "execution_count": null,
   "metadata": {},
   "outputs": [],
   "source": [
    "~~"
   ]
  },
  {
   "cell_type": "markdown",
   "metadata": {},
   "source": [
    "## 제어문"
   ]
  },
  {
   "cell_type": "code",
   "execution_count": 67,
   "metadata": {},
   "outputs": [
    {
     "name": "stdout",
     "output_type": "stream",
     "text": [
      "짜장면\n"
     ]
    }
   ],
   "source": [
    "# 조건문 if\n",
    "금액 = 5000\n",
    "if 금액 == 5000:\n",
    "    print(\"짜장면\")"
   ]
  },
  {
   "cell_type": "code",
   "execution_count": 68,
   "metadata": {},
   "outputs": [
    {
     "name": "stdout",
     "output_type": "stream",
     "text": [
      "짬뽕\n"
     ]
    }
   ],
   "source": [
    "금액 = 6000\n",
    "if 금액==5000:\n",
    "    print(\"짜장면\")\n",
    "if 10000>금액>5000:\n",
    "    print(\"짬뽕\")\n",
    "    \n",
    "## if를 두번 쓰는 경우 vs if와 elif를 쓰는 경우\n",
    "# 전자는 두 개의 조건을 모두 검토, 후자의 경우는 첫 번째 조건을 만족하면 두 번째 조건은 검토하지 않음."
   ]
  },
  {
   "cell_type": "code",
   "execution_count": 69,
   "metadata": {},
   "outputs": [
    {
     "name": "stdout",
     "output_type": "stream",
     "text": [
      "죄송해요\n"
     ]
    }
   ],
   "source": [
    "금액= 4000\n",
    "if 금액==5000:\n",
    "    print(\"짜장면\")\n",
    "elif 10000>금액>5000:\n",
    "    print(\"짬뽕\")\n",
    "else:\n",
    "    print(\"죄송해요\")"
   ]
  },
  {
   "cell_type": "code",
   "execution_count": null,
   "metadata": {},
   "outputs": [],
   "source": [
    "# if ... elif"
   ]
  },
  {
   "cell_type": "code",
   "execution_count": 70,
   "metadata": {},
   "outputs": [
    {
     "name": "stdout",
     "output_type": "stream",
     "text": [
      "짜장면이요\n",
      "짬뽕드세요\n"
     ]
    }
   ],
   "source": [
    "음식메뉴 = ['짜장면','짬뽕']\n",
    "if '짜장면' in 음식메뉴:\n",
    "    print(\"짜장면이요\")\n",
    "if '짬뽕' in 음식메뉴:\n",
    "    print(\"짬뽕드세요\")\n",
    "else:\n",
    "    print(\"오늘 굶으세요\")"
   ]
  },
  {
   "cell_type": "code",
   "execution_count": 71,
   "metadata": {},
   "outputs": [
    {
     "name": "stdout",
     "output_type": "stream",
     "text": [
      "짜장면이요\n"
     ]
    }
   ],
   "source": [
    "음식메뉴 = ['짜장면','짬뽕']\n",
    "if '짜장면' in 음식메뉴:\n",
    "    print(\"짜장면이요\")\n",
    "elif '짬뽕' in 음식메뉴:\n",
    "    print(\"짬뽕드세요\")\n",
    "else:\n",
    "    print(\"오늘 굶으세요\")"
   ]
  },
  {
   "cell_type": "markdown",
   "metadata": {},
   "source": [
    "## 반복문(for)"
   ]
  },
  {
   "cell_type": "code",
   "execution_count": 72,
   "metadata": {},
   "outputs": [
    {
     "name": "stdout",
     "output_type": "stream",
     "text": [
      "짜장면\n",
      "짬뽕\n",
      "군만두\n"
     ]
    }
   ],
   "source": [
    "# 반복문은 똑같은 작업을 반복해서 수행하기 위한 제어문.\n",
    "for i in ['짜장면','짬뽕','군만두']:\n",
    "    print(i)"
   ]
  },
  {
   "cell_type": "code",
   "execution_count": 73,
   "metadata": {},
   "outputs": [
    {
     "name": "stdout",
     "output_type": "stream",
     "text": [
      "짜장면\n",
      "짬뽕\n",
      "군만두\n"
     ]
    }
   ],
   "source": [
    "음식메뉴=['짜장면','짬뽕','군만두']\n",
    "for i in 음식메뉴:\n",
    "    print(i)"
   ]
  },
  {
   "cell_type": "code",
   "execution_count": null,
   "metadata": {},
   "outputs": [],
   "source": []
  },
  {
   "cell_type": "code",
   "execution_count": null,
   "metadata": {},
   "outputs": [],
   "source": []
  },
  {
   "cell_type": "code",
   "execution_count": null,
   "metadata": {},
   "outputs": [],
   "source": []
  },
  {
   "cell_type": "code",
   "execution_count": null,
   "metadata": {},
   "outputs": [],
   "source": []
  },
  {
   "cell_type": "code",
   "execution_count": null,
   "metadata": {},
   "outputs": [],
   "source": []
  },
  {
   "cell_type": "code",
   "execution_count": null,
   "metadata": {},
   "outputs": [],
   "source": []
  },
  {
   "cell_type": "code",
   "execution_count": null,
   "metadata": {},
   "outputs": [],
   "source": []
  },
  {
   "cell_type": "code",
   "execution_count": null,
   "metadata": {},
   "outputs": [],
   "source": []
  },
  {
   "cell_type": "code",
   "execution_count": null,
   "metadata": {},
   "outputs": [],
   "source": []
  },
  {
   "cell_type": "code",
   "execution_count": null,
   "metadata": {},
   "outputs": [],
   "source": []
  },
  {
   "cell_type": "code",
   "execution_count": null,
   "metadata": {},
   "outputs": [],
   "source": []
  },
  {
   "cell_type": "code",
   "execution_count": null,
   "metadata": {},
   "outputs": [],
   "source": []
  },
  {
   "cell_type": "code",
   "execution_count": null,
   "metadata": {},
   "outputs": [],
   "source": []
  },
  {
   "cell_type": "code",
   "execution_count": null,
   "metadata": {},
   "outputs": [],
   "source": []
  },
  {
   "cell_type": "code",
   "execution_count": null,
   "metadata": {},
   "outputs": [],
   "source": []
  },
  {
   "cell_type": "code",
   "execution_count": null,
   "metadata": {},
   "outputs": [],
   "source": []
  },
  {
   "cell_type": "code",
   "execution_count": null,
   "metadata": {},
   "outputs": [],
   "source": []
  },
  {
   "cell_type": "code",
   "execution_count": null,
   "metadata": {},
   "outputs": [],
   "source": []
  },
  {
   "cell_type": "code",
   "execution_count": null,
   "metadata": {},
   "outputs": [],
   "source": []
  },
  {
   "cell_type": "code",
   "execution_count": null,
   "metadata": {},
   "outputs": [],
   "source": []
  },
  {
   "cell_type": "code",
   "execution_count": null,
   "metadata": {},
   "outputs": [],
   "source": []
  },
  {
   "cell_type": "code",
   "execution_count": null,
   "metadata": {},
   "outputs": [],
   "source": []
  },
  {
   "cell_type": "code",
   "execution_count": null,
   "metadata": {},
   "outputs": [],
   "source": []
  },
  {
   "cell_type": "code",
   "execution_count": null,
   "metadata": {},
   "outputs": [],
   "source": []
  },
  {
   "cell_type": "code",
   "execution_count": null,
   "metadata": {},
   "outputs": [],
   "source": []
  },
  {
   "cell_type": "code",
   "execution_count": null,
   "metadata": {},
   "outputs": [],
   "source": []
  },
  {
   "cell_type": "code",
   "execution_count": null,
   "metadata": {},
   "outputs": [],
   "source": []
  },
  {
   "cell_type": "code",
   "execution_count": null,
   "metadata": {},
   "outputs": [],
   "source": []
  },
  {
   "cell_type": "code",
   "execution_count": null,
   "metadata": {},
   "outputs": [],
   "source": []
  },
  {
   "cell_type": "code",
   "execution_count": null,
   "metadata": {},
   "outputs": [],
   "source": []
  }
 ],
 "metadata": {
  "kernelspec": {
   "display_name": "Python 3",
   "language": "python",
   "name": "python3"
  },
  "language_info": {
   "codemirror_mode": {
    "name": "ipython",
    "version": 3
   },
   "file_extension": ".py",
   "mimetype": "text/x-python",
   "name": "python",
   "nbconvert_exporter": "python",
   "pygments_lexer": "ipython3",
   "version": "3.7.6"
  }
 },
 "nbformat": 4,
 "nbformat_minor": 4
}
